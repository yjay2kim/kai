{
  "nbformat": 4,
  "nbformat_minor": 0,
  "metadata": {
    "colab": {
      "provenance": [],
      "authorship_tag": "ABX9TyNY3Uqe78ycaBsmWfSaZOj3",
      "include_colab_link": true
    },
    "kernelspec": {
      "name": "python3",
      "display_name": "Python 3"
    },
    "language_info": {
      "name": "python"
    },
    "accelerator": "GPU",
    "gpuClass": "standard"
  },
  "cells": [
    {
      "cell_type": "markdown",
      "metadata": {
        "id": "view-in-github",
        "colab_type": "text"
      },
      "source": [
        "<a href=\"https://colab.research.google.com/github/yjay2kim/kai/blob/main/kai_tensorflow_sample.ipynb\" target=\"_parent\"><img src=\"https://colab.research.google.com/assets/colab-badge.svg\" alt=\"Open In Colab\"/></a>"
      ]
    },
    {
      "cell_type": "code",
      "execution_count": 16,
      "metadata": {
        "colab": {
          "base_uri": "https://localhost:8080/"
        },
        "id": "3TBHnfSZE1uo",
        "outputId": "c359de8e-206d-4f9f-d0b2-d7ff8d8a38b1"
      },
      "outputs": [
        {
          "output_type": "stream",
          "name": "stdout",
          "text": [
            "TensorFlow version: 2.9.2\n",
            "/device:GPU:0\n",
            "Done.. Model Compile\n",
            "Epoch 1/5\n",
            "4/4 [==============================] - 0s 4ms/step - loss: 2.3020 - accuracy: 0.1616\n",
            "Epoch 2/5\n",
            "4/4 [==============================] - 0s 3ms/step - loss: 1.8515 - accuracy: 0.3636\n",
            "Epoch 3/5\n",
            "4/4 [==============================] - 0s 4ms/step - loss: 1.5885 - accuracy: 0.5152\n",
            "Epoch 4/5\n",
            "4/4 [==============================] - 0s 4ms/step - loss: 1.4098 - accuracy: 0.6061\n",
            "Epoch 5/5\n",
            "4/4 [==============================] - 0s 3ms/step - loss: 1.1714 - accuracy: 0.6970\n",
            "Done.. Model fit\n",
            "4/4 - 0s - loss: 1.6676 - accuracy: 0.4949 - 102ms/epoch - 26ms/step\n",
            "Done.. Model evaluation\n",
            "Done.. Model export\n",
            "Done.. Model import\n",
            "4/4 - 0s - loss: 1.6676 - accuracy: 0.4949 - 20ms/epoch - 5ms/step\n",
            "Done.. Model evaluation\n"
          ]
        }
      ],
      "source": [
        "import tensorflow as tf\n",
        "import pandas as pd\n",
        "import numpy as np\n",
        "import itertools \n",
        "\n",
        "def load_data_keras():\n",
        "  mnist = tf.keras.datasets.mnist\n",
        "  (x_train, y_train), (x_test, y_test) = mnist.load_data()\n",
        "  x_train, x_test = x_train/255.0, x_test/255.0\n",
        "  return x_train, y_train, x_test, y_test\n",
        "\n",
        "def pandas_df_to_r3_tensor(df):\n",
        "  np_arr = np.array(df)\n",
        "  np_arr = np_arr.reshape(99, 28, 28)\n",
        "  return tf.convert_to_tensor(np_arr, dtype=tf.float32)\n",
        "\n",
        "def load_data_pandas():\n",
        "  mnist_train = pd.read_csv(\"/content/mnist_train_small_kai_custom.csv\")\n",
        "  mnist_train_features = mnist_train.copy()     \n",
        "  x_train = mnist_train_features.iloc[:,1:]   # pandas dataFrame type\n",
        "  y_train = mnist_train_features.iloc[:,0]\n",
        "  x_train = pandas_df_to_r3_tensor(x_train)\n",
        "  y_train = tf.convert_to_tensor(y_train, dtype=tf.float32)\n",
        "  \n",
        "  mnist_test = pd.read_csv(\"/content/mnist_test_kai_custom.csv\")\n",
        "  mnist_test_features = mnist_test.copy()\n",
        "  x_test = mnist_test_features.iloc[:,1:]\n",
        "  y_test = mnist_test_features.iloc[:,0]\n",
        "  x_test = pandas_df_to_r3_tensor(x_test)\n",
        "  y_test = tf.convert_to_tensor(y_test, dtype=tf.float32)\n",
        "\n",
        "  x_train, x_test = x_train/255.0, x_test/255.0\n",
        "  return x_train, y_train, x_test, y_test\n",
        "\n",
        "print(\"TensorFlow version:\", tf.__version__)\n",
        "\n",
        "#0. Check GPU evironment\n",
        "print (tf.test.gpu_device_name())\n",
        "\n",
        "#1. Load data\n",
        "#x_train, y_train, x_test, y_test = load_data_keras()\n",
        "x_train, y_train, x_test, y_test = load_data_pandas()\n",
        "\n",
        "#2. Build a model\n",
        "model = tf.keras.models.Sequential([\n",
        "    tf.keras.layers.Flatten(input_shape=(28,28)),\n",
        "    tf.keras.layers.Dense(128, activation='relu'),\n",
        "    tf.keras.layers.Dropout(0.2),\n",
        "    tf.keras.layers.Dense(10)\n",
        "])\n",
        "\n",
        "predictions = model(x_train[:1]).numpy()\n",
        "predictions\n",
        "\n",
        "tf.nn.softmax(predictions).numpy()\n",
        "\n",
        "loss_fn = tf.keras.losses.SparseCategoricalCrossentropy(from_logits=True)\n",
        "loss_fn(y_train[:1], predictions).numpy()\n",
        "\n",
        "model.compile(optimizer='adam',\n",
        "              loss=loss_fn,\n",
        "              metrics=['accuracy'])\n",
        "print(\"Done.. Model Compile\")\n",
        "\n",
        "#3. Training\n",
        "model.fit(x_train, y_train, epochs=5)\n",
        "print(\"Done.. Model fit\")\n",
        "\n",
        "#4. Evaluate\n",
        "model.evaluate(x_test, y_test, verbose=2)\n",
        "print(\"Done.. Model evaluation\")\n",
        "\n",
        "#5. Export model to SavedModel format\n",
        "tf.saved_model.save(model, \"/content\")\n",
        "print(\"Done.. Model export\")\n",
        "\n",
        "#6. Import model from local SavedModel format file\n",
        "imported_model = tf.saved_model.load(\"/content\")\n",
        "print(\"Done.. Model import\");\n",
        "\n",
        "#7. Evaluate again\n",
        "model.evaluate(x_test, y_test, verbose=2)\n",
        "print(\"Done.. Model evaluation\")\n"
      ]
    }
  ]
}